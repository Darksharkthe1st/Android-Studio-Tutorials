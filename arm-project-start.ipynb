{
 "cells": [
  {
   "cell_type": "code",
   "execution_count": 1,
   "id": "9abf9230",
   "metadata": {
    "_cell_guid": "b1076dfc-b9ad-4769-8c92-a6c4dae69d19",
    "_uuid": "8f2839f25d086af736a60e9eeb907d3b93b6e0e5",
    "execution": {
     "iopub.execute_input": "2025-02-27T16:33:03.807708Z",
     "iopub.status.busy": "2025-02-27T16:33:03.807442Z",
     "iopub.status.idle": "2025-02-27T16:33:04.722010Z",
     "shell.execute_reply": "2025-02-27T16:33:04.720727Z"
    },
    "papermill": {
     "duration": 0.918864,
     "end_time": "2025-02-27T16:33:04.723353",
     "exception": false,
     "start_time": "2025-02-27T16:33:03.804489",
     "status": "completed"
    },
    "tags": []
   },
   "outputs": [
    {
     "name": "stdout",
     "output_type": "stream",
     "text": [
      "/kaggle/input/pm-77344730-at-02-27-2025-16-31-52/__script__.py\n",
      "/kaggle/input/pm-77344730-at-02-27-2025-16-31-52/jedi-0.19.2-py2.py3-none-any.whl\n",
      "/kaggle/input/pm-77344730-at-02-27-2025-16-31-52/matplotlib-3.10.0-cp310-cp310-manylinux_2_17_x86_64.manylinux2014_x86_64.whl\n",
      "/kaggle/input/pm-77344730-at-02-27-2025-16-31-52/pexpect-4.9.0-py2.py3-none-any.whl\n",
      "/kaggle/input/pm-77344730-at-02-27-2025-16-31-52/numpy-1.26.4-cp310-cp310-manylinux_2_17_x86_64.manylinux2014_x86_64.whl\n",
      "/kaggle/input/pm-77344730-at-02-27-2025-16-31-52/tzdata-2025.1-py2.py3-none-any.whl\n",
      "/kaggle/input/pm-77344730-at-02-27-2025-16-31-52/parso-0.8.4-py2.py3-none-any.whl\n",
      "/kaggle/input/pm-77344730-at-02-27-2025-16-31-52/gensim-4.3.3-cp310-cp310-manylinux_2_17_x86_64.manylinux2014_x86_64.whl\n",
      "/kaggle/input/pm-77344730-at-02-27-2025-16-31-52/mol2vec-0.1.zip\n",
      "/kaggle/input/pm-77344730-at-02-27-2025-16-31-52/contourpy-1.3.1-cp310-cp310-manylinux_2_17_x86_64.manylinux2014_x86_64.whl\n",
      "/kaggle/input/pm-77344730-at-02-27-2025-16-31-52/pillow-11.1.0-cp310-cp310-manylinux_2_28_x86_64.whl\n",
      "/kaggle/input/pm-77344730-at-02-27-2025-16-31-52/tqdm-4.67.1-py3-none-any.whl\n",
      "/kaggle/input/pm-77344730-at-02-27-2025-16-31-52/asttokens-3.0.0-py3-none-any.whl\n",
      "/kaggle/input/pm-77344730-at-02-27-2025-16-31-52/ipython-8.32.0-py3-none-any.whl\n",
      "/kaggle/input/pm-77344730-at-02-27-2025-16-31-52/__results__.html\n",
      "/kaggle/input/pm-77344730-at-02-27-2025-16-31-52/decorator-5.2.1-py3-none-any.whl\n",
      "/kaggle/input/pm-77344730-at-02-27-2025-16-31-52/seaborn-0.13.2-py3-none-any.whl\n",
      "/kaggle/input/pm-77344730-at-02-27-2025-16-31-52/cycler-0.12.1-py3-none-any.whl\n",
      "/kaggle/input/pm-77344730-at-02-27-2025-16-31-52/pyparsing-3.2.1-py3-none-any.whl\n",
      "/kaggle/input/pm-77344730-at-02-27-2025-16-31-52/prompt_toolkit-3.0.50-py3-none-any.whl\n",
      "/kaggle/input/pm-77344730-at-02-27-2025-16-31-52/pygments-2.19.1-py3-none-any.whl\n",
      "/kaggle/input/pm-77344730-at-02-27-2025-16-31-52/traitlets-5.14.3-py3-none-any.whl\n",
      "/kaggle/input/pm-77344730-at-02-27-2025-16-31-52/input_requirements.txt\n",
      "/kaggle/input/pm-77344730-at-02-27-2025-16-31-52/six-1.17.0-py2.py3-none-any.whl\n",
      "/kaggle/input/pm-77344730-at-02-27-2025-16-31-52/executing-2.2.0-py2.py3-none-any.whl\n",
      "/kaggle/input/pm-77344730-at-02-27-2025-16-31-52/wrapt-1.17.2-cp310-cp310-manylinux_2_5_x86_64.manylinux1_x86_64.manylinux_2_17_x86_64.manylinux2014_x86_64.whl\n",
      "/kaggle/input/pm-77344730-at-02-27-2025-16-31-52/python_dateutil-2.9.0.post0-py2.py3-none-any.whl\n",
      "/kaggle/input/pm-77344730-at-02-27-2025-16-31-52/ptyprocess-0.7.0-py2.py3-none-any.whl\n",
      "/kaggle/input/pm-77344730-at-02-27-2025-16-31-52/kiwisolver-1.4.8-cp310-cp310-manylinux_2_12_x86_64.manylinux2010_x86_64.whl\n",
      "/kaggle/input/pm-77344730-at-02-27-2025-16-31-52/pure_eval-0.2.3-py3-none-any.whl\n",
      "/kaggle/input/pm-77344730-at-02-27-2025-16-31-52/__script__.ipynb\n",
      "/kaggle/input/pm-77344730-at-02-27-2025-16-31-52/scipy-1.13.1-cp310-cp310-manylinux_2_17_x86_64.manylinux2014_x86_64.whl\n",
      "/kaggle/input/pm-77344730-at-02-27-2025-16-31-52/pytz-2025.1-py2.py3-none-any.whl\n",
      "/kaggle/input/pm-77344730-at-02-27-2025-16-31-52/__output__.json\n",
      "/kaggle/input/pm-77344730-at-02-27-2025-16-31-52/joblib-1.4.2-py3-none-any.whl\n",
      "/kaggle/input/pm-77344730-at-02-27-2025-16-31-52/typing_extensions-4.12.2-py3-none-any.whl\n",
      "/kaggle/input/pm-77344730-at-02-27-2025-16-31-52/wcwidth-0.2.13-py2.py3-none-any.whl\n",
      "/kaggle/input/pm-77344730-at-02-27-2025-16-31-52/smart_open-7.1.0-py3-none-any.whl\n",
      "/kaggle/input/pm-77344730-at-02-27-2025-16-31-52/fonttools-4.56.0-cp310-cp310-manylinux_2_17_x86_64.manylinux2014_x86_64.whl\n",
      "/kaggle/input/pm-77344730-at-02-27-2025-16-31-52/exceptiongroup-1.2.2-py3-none-any.whl\n",
      "/kaggle/input/pm-77344730-at-02-27-2025-16-31-52/matplotlib_inline-0.1.7-py3-none-any.whl\n",
      "/kaggle/input/pm-77344730-at-02-27-2025-16-31-52/stack_data-0.6.3-py3-none-any.whl\n",
      "/kaggle/input/pm-77344730-at-02-27-2025-16-31-52/install_requirements.sh\n",
      "/kaggle/input/pm-77344730-at-02-27-2025-16-31-52/pandas-2.2.3-cp310-cp310-manylinux_2_17_x86_64.manylinux2014_x86_64.whl\n",
      "/kaggle/input/pm-77344730-at-02-27-2025-16-31-52/packaging-24.2-py3-none-any.whl\n",
      "/kaggle/input/pm-77344730-at-02-27-2025-16-31-52/custom.css\n"
     ]
    }
   ],
   "source": [
    "# This Python 3 environment comes with many helpful analytics libraries installed\n",
    "# It is defined by the kaggle/python Docker image: https://github.com/kaggle/docker-python\n",
    "# For example, here's several helpful packages to load\n",
    "\n",
    "import numpy as np # linear algebra\n",
    "import pandas as pd # data processing, CSV file I/O (e.g. pd.read_csv)\n",
    "\n",
    "# Input data files are available in the read-only \"../input/\" directory\n",
    "# For example, running this (by clicking run or pressing Shift+Enter) will list all files under the input directory\n",
    "\n",
    "import os\n",
    "for dirname, _, filenames in os.walk('/kaggle/input'):\n",
    "    for filename in filenames:\n",
    "        print(os.path.join(dirname, filename))\n",
    "\n",
    "# You can write up to 20GB to the current directory (/kaggle/working/) that gets preserved as output when you create a version using \"Save & Run All\" \n",
    "# You can also write temporary files to /kaggle/temp/, but they won't be saved outside of the current session"
   ]
  },
  {
   "cell_type": "code",
   "execution_count": 2,
   "id": "26c1477f",
   "metadata": {
    "execution": {
     "iopub.execute_input": "2025-02-27T16:33:04.728139Z",
     "iopub.status.busy": "2025-02-27T16:33:04.727680Z",
     "iopub.status.idle": "2025-02-27T16:33:18.635294Z",
     "shell.execute_reply": "2025-02-27T16:33:18.634293Z"
    },
    "papermill": {
     "duration": 13.911374,
     "end_time": "2025-02-27T16:33:18.636769",
     "exception": false,
     "start_time": "2025-02-27T16:33:04.725395",
     "status": "completed"
    },
    "tags": []
   },
   "outputs": [
    {
     "name": "stdout",
     "output_type": "stream",
     "text": [
      "Collecting git+https://github.com/samoturk/mol2vec\r\n",
      "  Cloning https://github.com/samoturk/mol2vec to /tmp/pip-req-build-ne9cgsz7\r\n",
      "  Running command git clone --filter=blob:none --quiet https://github.com/samoturk/mol2vec /tmp/pip-req-build-ne9cgsz7\r\n",
      "  Resolved https://github.com/samoturk/mol2vec to commit 850d944d5f48a58e26ed0264332b5741f72555aa\r\n",
      "  Preparing metadata (setup.py) ... \u001b[?25l\u001b[?25hdone\r\n",
      "Requirement already satisfied: numpy in /usr/local/lib/python3.10/dist-packages (from mol2vec==0.1) (1.26.4)\r\n",
      "Requirement already satisfied: gensim in /usr/local/lib/python3.10/dist-packages (from mol2vec==0.1) (4.3.3)\r\n",
      "Requirement already satisfied: tqdm in /usr/local/lib/python3.10/dist-packages (from mol2vec==0.1) (4.67.1)\r\n",
      "Requirement already satisfied: joblib in /usr/local/lib/python3.10/dist-packages (from mol2vec==0.1) (1.4.2)\r\n",
      "Requirement already satisfied: pandas in /usr/local/lib/python3.10/dist-packages (from mol2vec==0.1) (2.2.3)\r\n",
      "Requirement already satisfied: matplotlib in /usr/local/lib/python3.10/dist-packages (from mol2vec==0.1) (3.7.5)\r\n",
      "Requirement already satisfied: IPython in /usr/local/lib/python3.10/dist-packages (from mol2vec==0.1) (7.34.0)\r\n",
      "Requirement already satisfied: seaborn in /usr/local/lib/python3.10/dist-packages (from mol2vec==0.1) (0.12.2)\r\n",
      "Requirement already satisfied: scipy<1.14.0,>=1.7.0 in /usr/local/lib/python3.10/dist-packages (from gensim->mol2vec==0.1) (1.13.1)\r\n",
      "Requirement already satisfied: smart-open>=1.8.1 in /usr/local/lib/python3.10/dist-packages (from gensim->mol2vec==0.1) (7.0.5)\r\n",
      "Requirement already satisfied: mkl_fft in /usr/local/lib/python3.10/dist-packages (from numpy->mol2vec==0.1) (1.3.8)\r\n",
      "Requirement already satisfied: mkl_random in /usr/local/lib/python3.10/dist-packages (from numpy->mol2vec==0.1) (1.2.4)\r\n",
      "Requirement already satisfied: mkl_umath in /usr/local/lib/python3.10/dist-packages (from numpy->mol2vec==0.1) (0.1.1)\r\n",
      "Requirement already satisfied: mkl in /usr/local/lib/python3.10/dist-packages (from numpy->mol2vec==0.1) (2025.0.1)\r\n",
      "Requirement already satisfied: tbb4py in /usr/local/lib/python3.10/dist-packages (from numpy->mol2vec==0.1) (2022.0.0)\r\n",
      "Requirement already satisfied: mkl-service in /usr/local/lib/python3.10/dist-packages (from numpy->mol2vec==0.1) (2.4.1)\r\n",
      "Requirement already satisfied: setuptools>=18.5 in /usr/local/lib/python3.10/dist-packages (from IPython->mol2vec==0.1) (75.1.0)\r\n",
      "Requirement already satisfied: jedi>=0.16 in /usr/local/lib/python3.10/dist-packages (from IPython->mol2vec==0.1) (0.19.2)\r\n",
      "Requirement already satisfied: decorator in /usr/local/lib/python3.10/dist-packages (from IPython->mol2vec==0.1) (4.4.2)\r\n",
      "Requirement already satisfied: pickleshare in /usr/local/lib/python3.10/dist-packages (from IPython->mol2vec==0.1) (0.7.5)\r\n",
      "Requirement already satisfied: traitlets>=4.2 in /usr/local/lib/python3.10/dist-packages (from IPython->mol2vec==0.1) (5.7.1)\r\n",
      "Requirement already satisfied: prompt-toolkit!=3.0.0,!=3.0.1,<3.1.0,>=2.0.0 in /usr/local/lib/python3.10/dist-packages (from IPython->mol2vec==0.1) (3.0.48)\r\n",
      "Requirement already satisfied: pygments in /usr/local/lib/python3.10/dist-packages (from IPython->mol2vec==0.1) (2.19.1)\r\n",
      "Requirement already satisfied: backcall in /usr/local/lib/python3.10/dist-packages (from IPython->mol2vec==0.1) (0.2.0)\r\n",
      "Requirement already satisfied: matplotlib-inline in /usr/local/lib/python3.10/dist-packages (from IPython->mol2vec==0.1) (0.1.7)\r\n",
      "Requirement already satisfied: pexpect>4.3 in /usr/local/lib/python3.10/dist-packages (from IPython->mol2vec==0.1) (4.9.0)\r\n",
      "Requirement already satisfied: contourpy>=1.0.1 in /usr/local/lib/python3.10/dist-packages (from matplotlib->mol2vec==0.1) (1.3.1)\r\n",
      "Requirement already satisfied: cycler>=0.10 in /usr/local/lib/python3.10/dist-packages (from matplotlib->mol2vec==0.1) (0.12.1)\r\n",
      "Requirement already satisfied: fonttools>=4.22.0 in /usr/local/lib/python3.10/dist-packages (from matplotlib->mol2vec==0.1) (4.55.3)\r\n",
      "Requirement already satisfied: kiwisolver>=1.0.1 in /usr/local/lib/python3.10/dist-packages (from matplotlib->mol2vec==0.1) (1.4.7)\r\n",
      "Requirement already satisfied: packaging>=20.0 in /usr/local/lib/python3.10/dist-packages (from matplotlib->mol2vec==0.1) (24.2)\r\n",
      "Requirement already satisfied: pillow>=6.2.0 in /usr/local/lib/python3.10/dist-packages (from matplotlib->mol2vec==0.1) (11.0.0)\r\n",
      "Requirement already satisfied: pyparsing>=2.3.1 in /usr/local/lib/python3.10/dist-packages (from matplotlib->mol2vec==0.1) (3.2.0)\r\n",
      "Requirement already satisfied: python-dateutil>=2.7 in /usr/local/lib/python3.10/dist-packages (from matplotlib->mol2vec==0.1) (2.9.0.post0)\r\n",
      "Requirement already satisfied: pytz>=2020.1 in /usr/local/lib/python3.10/dist-packages (from pandas->mol2vec==0.1) (2025.1)\r\n",
      "Requirement already satisfied: tzdata>=2022.7 in /usr/local/lib/python3.10/dist-packages (from pandas->mol2vec==0.1) (2025.1)\r\n",
      "Requirement already satisfied: parso<0.9.0,>=0.8.4 in /usr/local/lib/python3.10/dist-packages (from jedi>=0.16->IPython->mol2vec==0.1) (0.8.4)\r\n",
      "Requirement already satisfied: ptyprocess>=0.5 in /usr/local/lib/python3.10/dist-packages (from pexpect>4.3->IPython->mol2vec==0.1) (0.7.0)\r\n",
      "Requirement already satisfied: wcwidth in /usr/local/lib/python3.10/dist-packages (from prompt-toolkit!=3.0.0,!=3.0.1,<3.1.0,>=2.0.0->IPython->mol2vec==0.1) (0.2.13)\r\n",
      "Requirement already satisfied: six>=1.5 in /usr/local/lib/python3.10/dist-packages (from python-dateutil>=2.7->matplotlib->mol2vec==0.1) (1.17.0)\r\n",
      "Requirement already satisfied: wrapt in /usr/local/lib/python3.10/dist-packages (from smart-open>=1.8.1->gensim->mol2vec==0.1) (1.17.0)\r\n",
      "Requirement already satisfied: intel-openmp>=2024 in /usr/local/lib/python3.10/dist-packages (from mkl->numpy->mol2vec==0.1) (2024.2.0)\r\n",
      "Requirement already satisfied: tbb==2022.* in /usr/local/lib/python3.10/dist-packages (from mkl->numpy->mol2vec==0.1) (2022.0.0)\r\n",
      "Requirement already satisfied: tcmlib==1.* in /usr/local/lib/python3.10/dist-packages (from tbb==2022.*->mkl->numpy->mol2vec==0.1) (1.2.0)\r\n",
      "Requirement already satisfied: intel-cmplr-lib-rt in /usr/local/lib/python3.10/dist-packages (from mkl_umath->numpy->mol2vec==0.1) (2024.2.0)\r\n",
      "Requirement already satisfied: intel-cmplr-lib-ur==2024.2.0 in /usr/local/lib/python3.10/dist-packages (from intel-openmp>=2024->mkl->numpy->mol2vec==0.1) (2024.2.0)\r\n",
      "Collecting rdkit-pypi\r\n",
      "  Downloading rdkit_pypi-2022.9.5-cp310-cp310-manylinux_2_17_x86_64.manylinux2014_x86_64.whl.metadata (3.9 kB)\r\n",
      "Requirement already satisfied: numpy in /usr/local/lib/python3.10/dist-packages (from rdkit-pypi) (1.26.4)\r\n",
      "Requirement already satisfied: Pillow in /usr/local/lib/python3.10/dist-packages (from rdkit-pypi) (11.0.0)\r\n",
      "Requirement already satisfied: mkl_fft in /usr/local/lib/python3.10/dist-packages (from numpy->rdkit-pypi) (1.3.8)\r\n",
      "Requirement already satisfied: mkl_random in /usr/local/lib/python3.10/dist-packages (from numpy->rdkit-pypi) (1.2.4)\r\n",
      "Requirement already satisfied: mkl_umath in /usr/local/lib/python3.10/dist-packages (from numpy->rdkit-pypi) (0.1.1)\r\n",
      "Requirement already satisfied: mkl in /usr/local/lib/python3.10/dist-packages (from numpy->rdkit-pypi) (2025.0.1)\r\n",
      "Requirement already satisfied: tbb4py in /usr/local/lib/python3.10/dist-packages (from numpy->rdkit-pypi) (2022.0.0)\r\n",
      "Requirement already satisfied: mkl-service in /usr/local/lib/python3.10/dist-packages (from numpy->rdkit-pypi) (2.4.1)\r\n",
      "Requirement already satisfied: intel-openmp>=2024 in /usr/local/lib/python3.10/dist-packages (from mkl->numpy->rdkit-pypi) (2024.2.0)\r\n",
      "Requirement already satisfied: tbb==2022.* in /usr/local/lib/python3.10/dist-packages (from mkl->numpy->rdkit-pypi) (2022.0.0)\r\n",
      "Requirement already satisfied: tcmlib==1.* in /usr/local/lib/python3.10/dist-packages (from tbb==2022.*->mkl->numpy->rdkit-pypi) (1.2.0)\r\n",
      "Requirement already satisfied: intel-cmplr-lib-rt in /usr/local/lib/python3.10/dist-packages (from mkl_umath->numpy->rdkit-pypi) (2024.2.0)\r\n",
      "Requirement already satisfied: intel-cmplr-lib-ur==2024.2.0 in /usr/local/lib/python3.10/dist-packages (from intel-openmp>=2024->mkl->numpy->rdkit-pypi) (2024.2.0)\r\n",
      "Downloading rdkit_pypi-2022.9.5-cp310-cp310-manylinux_2_17_x86_64.manylinux2014_x86_64.whl (29.4 MB)\r\n",
      "\u001b[2K   \u001b[90m━━━━━━━━━━━━━━━━━━━━━━━━━━━━━━━━━━━━━━━━\u001b[0m \u001b[32m29.4/29.4 MB\u001b[0m \u001b[31m56.9 MB/s\u001b[0m eta \u001b[36m0:00:00\u001b[0m\r\n",
      "\u001b[?25hInstalling collected packages: rdkit-pypi\r\n",
      "Successfully installed rdkit-pypi-2022.9.5\r\n"
     ]
    }
   ],
   "source": [
    "!pip install git+https://github.com/samoturk/mol2vec\n",
    "!pip install rdkit-pypi"
   ]
  },
  {
   "cell_type": "code",
   "execution_count": 3,
   "id": "16cb2af5",
   "metadata": {
    "execution": {
     "iopub.execute_input": "2025-02-27T16:33:18.642781Z",
     "iopub.status.busy": "2025-02-27T16:33:18.642468Z",
     "iopub.status.idle": "2025-02-27T16:33:32.514823Z",
     "shell.execute_reply": "2025-02-27T16:33:32.513674Z"
    },
    "papermill": {
     "duration": 13.876959,
     "end_time": "2025-02-27T16:33:32.516359",
     "exception": false,
     "start_time": "2025-02-27T16:33:18.639400",
     "status": "completed"
    },
    "tags": []
   },
   "outputs": [
    {
     "name": "stderr",
     "output_type": "stream",
     "text": [
      "Failed to find the pandas get_adjustment() function to patch\n",
      "Failed to patch pandas - PandasTools will have limited functionality\n"
     ]
    }
   ],
   "source": [
    "import pandas\n",
    "from mol2vec import features\n",
    "from mol2vec import helpers\n",
    "import numpy\n",
    "import matplotlib\n",
    "import seaborn\n",
    "import IPython\n",
    "import sklearn\n",
    "import gensim\n",
    "import tqdm\n",
    "import joblib"
   ]
  },
  {
   "cell_type": "code",
   "execution_count": 4,
   "id": "0fac2772",
   "metadata": {
    "execution": {
     "iopub.execute_input": "2025-02-27T16:33:32.522212Z",
     "iopub.status.busy": "2025-02-27T16:33:32.521704Z",
     "iopub.status.idle": "2025-02-27T16:33:46.315649Z",
     "shell.execute_reply": "2025-02-27T16:33:46.314821Z"
    },
    "papermill": {
     "duration": 13.798081,
     "end_time": "2025-02-27T16:33:46.317024",
     "exception": false,
     "start_time": "2025-02-27T16:33:32.518943",
     "status": "completed"
    },
    "tags": []
   },
   "outputs": [
    {
     "name": "stdout",
     "output_type": "stream",
     "text": [
      "Failed to find the pandas get_adjustment() function to patch\r\n",
      "Failed to patch pandas - PandasTools will have limited functionality\r\n",
      "Generating corpus file.\r\n",
      "Traceback (most recent call last):\r\n",
      "  File \"/usr/local/bin/mol2vec\", line 8, in <module>\r\n",
      "    sys.exit(run())\r\n",
      "  File \"/usr/local/lib/python3.10/dist-packages/mol2vec/app/mol2vec.py\", line 165, in run\r\n",
      "    args.func(args)\r\n",
      "  File \"/usr/local/lib/python3.10/dist-packages/mol2vec/app/mol2vec.py\", line 8, in do_corpus\r\n",
      "    features.generate_corpus(args.in_file, args.out_file, args.radius, sentence_type='alt', n_jobs=args.n_jobs)\r\n",
      "  File \"/usr/local/lib/python3.10/dist-packages/mol2vec/features.py\", line 248, in generate_corpus\r\n",
      "    mols_file = open(in_file, mode='rt')\r\n",
      "FileNotFoundError: [Errno 2] No such file or directory: 'mols.smi'\r\n",
      "Failed to find the pandas get_adjustment() function to patch\r\n",
      "Failed to patch pandas - PandasTools will have limited functionality\r\n",
      "Training word2vec/Mol2vec model.\r\n",
      "Traceback (most recent call last):\r\n",
      "  File \"/usr/local/bin/mol2vec\", line 8, in <module>\r\n",
      "    sys.exit(run())\r\n",
      "  File \"/usr/local/lib/python3.10/dist-packages/mol2vec/app/mol2vec.py\", line 165, in run\r\n",
      "    args.func(args)\r\n",
      "  File \"/usr/local/lib/python3.10/dist-packages/mol2vec/app/mol2vec.py\", line 18, in do_train\r\n",
      "    features.train_word2vec_model(args.in_file, args.model, vector_size=args.dimensions, window=args.window,\r\n",
      "  File \"/usr/local/lib/python3.10/dist-packages/mol2vec/features.py\", line 372, in train_word2vec_model\r\n",
      "    model = word2vec.Word2Vec(corpus, size=vector_size, window=window, min_count=min_count, workers=n_jobs, sg=sg,\r\n",
      "TypeError: Word2Vec.__init__() got an unexpected keyword argument 'size'\r\n"
     ]
    }
   ],
   "source": [
    "!mol2vec corpus -i mols.smi -o mols.cp -r 1 -j 4 --uncommon UNK --threshold 3\n",
    "!mol2vec train -i mols.cp_UNK -o model.pkl -d 300 -w 10 -m skip-gram --threshold 3 -j 4"
   ]
  }
 ],
 "metadata": {
  "kaggle": {
   "accelerator": "none",
   "dataSources": [],
   "dockerImageVersionId": 30918,
   "isGpuEnabled": false,
   "isInternetEnabled": true,
   "language": "python",
   "sourceType": "notebook"
  },
  "kernelspec": {
   "display_name": "Python 3",
   "language": "python",
   "name": "python3"
  },
  "language_info": {
   "codemirror_mode": {
    "name": "ipython",
    "version": 3
   },
   "file_extension": ".py",
   "mimetype": "text/x-python",
   "name": "python",
   "nbconvert_exporter": "python",
   "pygments_lexer": "ipython3",
   "version": "3.10.12"
  },
  "papermill": {
   "default_parameters": {},
   "duration": 46.105291,
   "end_time": "2025-02-27T16:33:47.841082",
   "environment_variables": {},
   "exception": null,
   "input_path": "__notebook__.ipynb",
   "output_path": "__notebook__.ipynb",
   "parameters": {},
   "start_time": "2025-02-27T16:33:01.735791",
   "version": "2.6.0"
  }
 },
 "nbformat": 4,
 "nbformat_minor": 5
}
